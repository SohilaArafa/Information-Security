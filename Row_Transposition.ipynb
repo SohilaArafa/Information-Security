{
  "nbformat": 4,
  "nbformat_minor": 0,
  "metadata": {
    "colab": {
      "name": "Row Transposition.ipynb",
      "provenance": [],
      "authorship_tag": "ABX9TyMeJbBzNbPiT7GOje3DCqJL",
      "include_colab_link": true
    },
    "kernelspec": {
      "name": "python3",
      "display_name": "Python 3"
    },
    "language_info": {
      "name": "python"
    }
  },
  "cells": [
    {
      "cell_type": "markdown",
      "metadata": {
        "id": "view-in-github",
        "colab_type": "text"
      },
      "source": [
        "<a href=\"https://colab.research.google.com/github/SohilaArafa/Information-Security/blob/main/Row_Transposition.ipynb\" target=\"_parent\"><img src=\"https://colab.research.google.com/assets/colab-badge.svg\" alt=\"Open In Colab\"/></a>"
      ]
    },
    {
      "cell_type": "markdown",
      "source": [
        "#Row Transposition Encryption\n",
        "encrypt depending on root(L)\n",
        "where L is the length of the plain text without counting the spaces\n",
        "\n",
        "\n",
        "1.   Get Columns Number :  from root(L)\n",
        "2.   Get Rows Number : from L/Columns Number\n",
        " \n"
      ],
      "metadata": {
        "id": "Yhp6F66bO1tz"
      }
    },
    {
      "cell_type": "code",
      "execution_count": 3,
      "metadata": {
        "colab": {
          "base_uri": "https://localhost:8080/"
        },
        "id": "u4wKyzRmOnue",
        "outputId": "87ae789e-deb5-41e8-a2be-7aadbc95dfad"
      },
      "outputs": [
        {
          "output_type": "stream",
          "name": "stdout",
          "text": [
            "hae and via ecy \n"
          ]
        }
      ],
      "source": [
        "import math\n",
        "def encryption(s):\n",
        "  noSpace = s.split(\" \")\n",
        "  newText = \"\"\n",
        "  for i in range(len(noSpace)) : #removed Spaces\n",
        "    newText += noSpace[i]\n",
        "\n",
        "  L = len(newText)   \n",
        "  rootL = math.sqrt(L) \n",
        "\n",
        "  columnsLength = math.ceil(rootL)\n",
        "  rowLength = math.ceil(len(newText)/columnsLength)\n",
        "\n",
        "  cols,rows = (columnsLength, rowLength)\n",
        "  arr = []\n",
        "\n",
        "  index = 0\n",
        "  for r in range(rowLength)  :\n",
        "    row = []\n",
        "    j =0\n",
        "    while j <columnsLength and index < len(newText):\n",
        "      row.append(newText[index])\n",
        "      index += 1\n",
        "      j+=1\n",
        "    arr.append(row)\n",
        "  #print(arr)\n",
        "  n = len(arr[rowLength-1])\n",
        "\n",
        "  decrypted = \"\"\n",
        "  for j in range(columnsLength) :\n",
        "    r = 0\n",
        "    if j < n :\n",
        "     while r < rowLength : \n",
        "       decrypted += arr[r][j]\n",
        "       r+=1\n",
        "     decrypted += \" \"\n",
        "    else : \n",
        "      while r < rowLength-1 : \n",
        "       decrypted += arr[r][j]\n",
        "       r+=1\n",
        "      decrypted += \" \"\n",
        "      \n",
        "  return decrypted\n",
        "\n",
        "s =\" haveaniceday\"\n",
        "print(encryption(s))"
      ]
    },
    {
      "cell_type": "markdown",
      "source": [
        "#Test Cases\n",
        "\n",
        "\n",
        "1.   \"chillout\" ---> clu hlt io \n",
        "2.   \"feed the dog\" ---> fto ehg ee dd \n",
        "3.   \"if man was meant to stay on the ground god would have given us roots\" --->  imtgdvs fearwer mayoogo anouuio ntnnlvt wttddes aohghn sseoau \n",
        "\n",
        "      \n",
        "\n",
        "\n"
      ],
      "metadata": {
        "id": "kSgLtPjLQTGH"
      }
    }
  ]
}