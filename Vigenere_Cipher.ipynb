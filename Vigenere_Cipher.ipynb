{
  "nbformat": 4,
  "nbformat_minor": 0,
  "metadata": {
    "colab": {
      "name": "Vigenere_Cipher.ipynb",
      "provenance": [],
      "collapsed_sections": [],
      "include_colab_link": true
    },
    "kernelspec": {
      "name": "python3",
      "display_name": "Python 3"
    },
    "language_info": {
      "name": "python"
    }
  },
  "cells": [
    {
      "cell_type": "markdown",
      "metadata": {
        "id": "view-in-github",
        "colab_type": "text"
      },
      "source": [
        "<a href=\"https://colab.research.google.com/github/SohilaArafa/Information-Security/blob/main/Vigenere_Cipher.ipynb\" target=\"_parent\"><img src=\"https://colab.research.google.com/assets/colab-badge.svg\" alt=\"Open In Colab\"/></a>"
      ]
    },
    {
      "cell_type": "code",
      "execution_count": 1,
      "metadata": {
        "colab": {
          "base_uri": "https://localhost:8080/"
        },
        "id": "IAAThwuGSgKo",
        "outputId": "357f422b-0179-4d7d-9340-2f47ee387f79"
      },
      "outputs": [
        {
          "output_type": "stream",
          "name": "stdout",
          "text": [
            "Key Length is :  3 , with highest coincedence :  0.1574074074074074\n"
          ]
        }
      ],
      "source": [
        "#method generateIC takes a list of cosets as an inputs and returns the IC for these cosets\n",
        "def generateIC(coset):\n",
        "    cosetIC = 0\n",
        "    for c in coset:\n",
        "        c = c.lower()\n",
        "        count = [0]*26\n",
        "        n = 0\n",
        "        for i in range(0, len(c)):\n",
        "            val = ord(c[i]) - ord('a')\n",
        "            if(val >= 0 and val <= 25):\n",
        "                count[val] = count[val] + 1\n",
        "                n += 1\n",
        "        total = 0.0\n",
        "        for i in range(0, len(count)):\n",
        "            total += count[i] * (count[i]-1)\n",
        "        total = total/(n*(n-1))\n",
        "        cosetIC += total\n",
        "    cosetIC = cosetIC/len(coset)\n",
        "    return cosetIC\n",
        "\n",
        "\n",
        "def crack(cipher):\n",
        " highestCoincedence = 0\n",
        " theKeyIs = 0\n",
        " cipherLength=len(cipher)       \n",
        " for k in range(1,11) :          \n",
        "  ArrayOfStrings = ['']*k      \n",
        "  ArrayLength = len(ArrayOfStrings)\n",
        " \n",
        "  for i in range(ArrayLength) :      #loop over every index in the array\n",
        "    if i == 0:                       #if this is first string\n",
        "       j = 0                         #set j , countStrings = 0 \n",
        "       countStrings = 0\n",
        " \n",
        "    else :\n",
        "      j = countStrings            #if this is not the first string in the array\n",
        " \n",
        "    temp = \"\"  \n",
        " \n",
        "    while j<cipherLength :        #j is the index to build a string\n",
        "     temp =  temp + cipher[j] \n",
        "     j = j+k\n",
        "    \n",
        "    ArrayOfStrings[i] = temp\n",
        "    countStrings +=1\n",
        "  if k == 1 :\n",
        "    highestCoincedence = generateIC(ArrayOfStrings)\n",
        "    theKeyIs = k\n",
        "  else : \n",
        "    if generateIC(ArrayOfStrings) > highestCoincedence :\n",
        "      highestCoincedence = generateIC(ArrayOfStrings)\n",
        "      theKeyIs = k\n",
        "  #print(generateIC(ArrayOfStrings))\n",
        "  #print(ArrayOfStrings)\n",
        " print(\"Key Length is : \" , theKeyIs , \", with highest coincedence : \", highestCoincedence)\n",
        "\n",
        "\n",
        "s0 = \"RSTCSJLSLRSLFELGWLFIISIKRMGL\"\n",
        "s1 = \"OICPWZXZEVLGCLNFSYPGALPXWZJTEGALPCSIIWDHOIECCBFWPAHOPCGALPCCBROASNWTYHOIDBIHVPSCSIDEVLSYPGDLZDSLXSTBNWOTTMICPBAPJEVLCLCSUSEQCUHZQFBPPDOUHESSFLLGSUSCPGWINETVVESSZXLEIZUFZMVYNLBXYZESALPXRPWLRFLIHTHOXSPANPZCWMCZCJPPTQMALPXOISFEHOIZYZFXSTBNCZFQHRYZHKSTDWNRZCSALPXPLGLFGLXSPMJLLYULXSTBNWESSFTFDVALPSITEYCOJIQZFDECOOUHHSWSIDZALQLJGLIESSTEDEVLGCLNFSYPGDIDPSNIYTIZFPNOBWPEVLTPZDSIHSCHVPNFHDJPBVYRSHVXSTBRXSPMJEYNVHRRPHOIHZFSHLCSALPZBLWHSCKS\"\n",
        "s2 = \"VVVXSQWPSNJMUMJOKKLGFQAVEXAHWRVTMFXVVRKAJTVMFLOPHYWJDSTXKAGFVVTPHKYEPPJOKPSWACJVSIGGVOLXLVMQPVCMGOGMFLAKENVRMIUAKTKVHIXCFJZRAHWFHLIUMHCIRFWGFOETIUNEQVJWEHOSJWVQFYWKYMPGQHWISOPKHYFYV\"\n",
        "breaking = crack(s0)\n"
      ]
    }
  ]
}