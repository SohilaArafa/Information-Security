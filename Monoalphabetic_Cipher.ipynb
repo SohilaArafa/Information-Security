{
  "nbformat": 4,
  "nbformat_minor": 0,
  "metadata": {
    "colab": {
      "name": "Monoalphabetic_Cipher.ipynb",
      "provenance": [],
      "collapsed_sections": [],
      "authorship_tag": "ABX9TyOccj5PS612+ZrzuKdXT5yW",
      "include_colab_link": true
    },
    "kernelspec": {
      "name": "python3",
      "display_name": "Python 3"
    },
    "language_info": {
      "name": "python"
    }
  },
  "cells": [
    {
      "cell_type": "markdown",
      "metadata": {
        "id": "view-in-github",
        "colab_type": "text"
      },
      "source": [
        "<a href=\"https://colab.research.google.com/github/SohilaArafa/Information-Security/blob/main/Monoalphabetic_Cipher.ipynb\" target=\"_parent\"><img src=\"https://colab.research.google.com/assets/colab-badge.svg\" alt=\"Open In Colab\"/></a>"
      ]
    },
    {
      "cell_type": "code",
      "execution_count": null,
      "metadata": {
        "id": "bWWTUMmQc2v8",
        "outputId": "defefa6e-181a-4432-a7df-07358a2faa67",
        "colab": {
          "base_uri": "https://localhost:8080/"
        }
      },
      "outputs": [
        {
          "output_type": "stream",
          "name": "stdout",
          "text": [
            "DOBBISUFREEELF\n"
          ]
        }
      ],
      "source": [
        "plain_alpha = \"ABCDEFGHIJKLMNOPQRSTUVWXYZ\"\n",
        "cipher_alpha = \"LORFWSEVAMCPNDBQGJTYIUXHZK\"\n",
        "encryptedString = \"FBOOATISJWWWPS\"\n",
        "\n",
        "decryptedString = \"\"\n",
        "for i in range (0,len(encryptedString) ): #loop over every letter in the string\n",
        "  for j in range(0,25) :  #loop over cipher text\n",
        "   if encryptedString[i] == cipher_alpha[j] :\n",
        "     plainIndex = j  #we got index of the letter in cipher\n",
        "     decryptedString = decryptedString + plain_alpha[plainIndex]\n",
        "     break\n",
        "print(decryptedString)"
      ]
    }
  ]
}